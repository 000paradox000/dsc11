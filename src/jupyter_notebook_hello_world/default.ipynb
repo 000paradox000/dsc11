{
 "cells": [
  {
   "cell_type": "markdown",
   "id": "5486d58c-4d4b-4e2d-9ba7-cd182be19cc5",
   "metadata": {},
   "source": [
    "# Examples"
   ]
  },
  {
   "cell_type": "markdown",
   "id": "2da7e643-fd21-47bd-84a5-09c0a3c60a2f",
   "metadata": {},
   "source": [
    "## Libraries"
   ]
  },
  {
   "cell_type": "code",
   "execution_count": 4,
   "id": "9a18ceb0-0054-4ce3-a724-50bcf4a69f94",
   "metadata": {},
   "outputs": [],
   "source": [
    "import numpy as np"
   ]
  },
  {
   "cell_type": "markdown",
   "id": "bfcc0704-d9a0-41f6-a6a2-1a0f805f816d",
   "metadata": {},
   "source": [
    "## Simple array"
   ]
  },
  {
   "cell_type": "code",
   "execution_count": 5,
   "id": "3c1327b3-d1be-4eae-87fd-3d1aa0f3e010",
   "metadata": {},
   "outputs": [],
   "source": [
    "array_1 = np.array([1, 2, 3])"
   ]
  },
  {
   "cell_type": "code",
   "execution_count": 6,
   "id": "631db2c4-b72f-4768-b930-d25f5d981b42",
   "metadata": {},
   "outputs": [
    {
     "data": {
      "text/plain": [
       "array([1, 2, 3])"
      ]
     },
     "execution_count": 6,
     "metadata": {},
     "output_type": "execute_result"
    }
   ],
   "source": [
    "array_1"
   ]
  },
  {
   "cell_type": "code",
   "execution_count": 7,
   "id": "b0fa9f97-b51a-44a5-b1f6-cea013daedf5",
   "metadata": {},
   "outputs": [
    {
     "data": {
      "text/plain": [
       "numpy.ndarray"
      ]
     },
     "execution_count": 7,
     "metadata": {},
     "output_type": "execute_result"
    }
   ],
   "source": [
    "type(array_1)"
   ]
  }
 ],
 "metadata": {
  "kernelspec": {
   "display_name": "Python 3 (ipykernel)",
   "language": "python",
   "name": "python3"
  },
  "language_info": {
   "codemirror_mode": {
    "name": "ipython",
    "version": 3
   },
   "file_extension": ".py",
   "mimetype": "text/x-python",
   "name": "python",
   "nbconvert_exporter": "python",
   "pygments_lexer": "ipython3",
   "version": "3.10.11"
  }
 },
 "nbformat": 4,
 "nbformat_minor": 5
}
